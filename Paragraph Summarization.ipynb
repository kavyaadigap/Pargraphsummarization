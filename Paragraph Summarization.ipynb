{
 "cells": [
  {
   "cell_type": "code",
   "execution_count": null,
   "id": "5f48b984",
   "metadata": {},
   "outputs": [],
   "source": [
    "pip install transformers\n",
    "from transformers import pipeline\n",
    "summarizer = pipeline(\"summarization\")"
   ]
  },
  {
   "cell_type": "code",
   "execution_count": 18,
   "id": "bdc409d8",
   "metadata": {},
   "outputs": [],
   "source": [
    "paragraph = \"\"\"\n",
    "Artificial Intelligence (AI) has become a transformative force in the realm of technical publication, revolutionizing how information is generated, curated, and disseminated. AI's integration in technical publications enhances various aspects, such as content creation, language translation, semantic analysis, and accessibility. Machine learning algorithms enable automated summarization of complex technical documents, condensing intricate information into concise, easily digestible summaries. Natural Language Processing (NLP) algorithms ensure precise language translation, making technical content accessible to a global audience. AI-powered semantic analysis aids in categorizing and organizing content, optimizing search capabilities and improving information retrieval. Additionally, AI contributes to personalized user experiences by tailoring content recommendations based on user preferences and behavior, further enriching the technical publication landscape. As AI continues to evolve, it holds the promise of fostering greater efficiency, accuracy, and innovation within the domain of technical publishing.\"\"\"\n"
   ]
  },
  {
   "cell_type": "code",
   "execution_count": 22,
   "id": "7c07b6dd",
   "metadata": {},
   "outputs": [],
   "source": [
    "summary = summarizer(paragraph, max_length=201, min_length=50, do_sample=False)[0]['summary_text']"
   ]
  },
  {
   "cell_type": "code",
   "execution_count": 23,
   "id": "dbcb8519",
   "metadata": {},
   "outputs": [
    {
     "name": "stdout",
     "output_type": "stream",
     "text": [
      "\n",
      "Generated Summary:\n",
      "AI's integration in technical publications enhances content creation, language translation, semantic analysis, and accessibility . natural language processing (NLP) algorithms ensure precise language translation . AI contributes to personalized user experiences by tailoring content recommendations based on user preferences and behavior .\n"
     ]
    }
   ],
   "source": [
    "print(\"\\nGenerated Summary:\")\n",
    "print(summary)"
   ]
  },
  {
   "cell_type": "code",
   "execution_count": null,
   "id": "10b47a5e",
   "metadata": {},
   "outputs": [],
   "source": []
  }
 ],
 "metadata": {
  "kernelspec": {
   "display_name": "Python 3 (ipykernel)",
   "language": "python",
   "name": "python3"
  },
  "language_info": {
   "codemirror_mode": {
    "name": "ipython",
    "version": 3
   },
   "file_extension": ".py",
   "mimetype": "text/x-python",
   "name": "python",
   "nbconvert_exporter": "python",
   "pygments_lexer": "ipython3",
   "version": "3.9.13"
  }
 },
 "nbformat": 4,
 "nbformat_minor": 5
}
